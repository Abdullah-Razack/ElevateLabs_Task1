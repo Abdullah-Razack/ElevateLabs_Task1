{
  "nbformat": 4,
  "nbformat_minor": 0,
  "metadata": {
    "colab": {
      "provenance": []
    },
    "kernelspec": {
      "name": "python3",
      "display_name": "Python 3"
    },
    "language_info": {
      "name": "python"
    }
  },
  "cells": [
    {
      "cell_type": "code",
      "source": [
        "import pandas as pd\n",
        "\n",
        "# Load the dataset\n",
        "df = pd.read_csv('/content/marketing_campaign.csv', sep='\\t')"
      ],
      "metadata": {
        "id": "DTNSySB5Ontd"
      },
      "execution_count": 10,
      "outputs": []
    },
    {
      "cell_type": "code",
      "source": [
        "# Rename column headers\n",
        "original_columns = df.columns\n",
        "df.columns = df.columns.str.lower().str.replace(' ', '_').str.replace('[^a-zA-Z0-9_]', '', regex=True)"
      ],
      "metadata": {
        "id": "0UcGl6DnOnwf"
      },
      "execution_count": 11,
      "outputs": []
    },
    {
      "cell_type": "code",
      "source": [
        "# Handle missing values\n",
        "# 'Income' column has missing values; fill with its median.\n",
        "if 'income' in df.columns and df['income'].isnull().any():\n",
        "    income_median = df['income'].median()\n",
        "    df['income'].fillna(income_median, inplace=True)"
      ],
      "metadata": {
        "colab": {
          "base_uri": "https://localhost:8080/"
        },
        "id": "5DAL1l7TOnzN",
        "outputId": "c9fb57ec-9564-4db2-e9f2-e5e836c4e5ea"
      },
      "execution_count": 12,
      "outputs": [
        {
          "output_type": "stream",
          "name": "stderr",
          "text": [
            "<ipython-input-12-3599739e7d1f>:5: FutureWarning: A value is trying to be set on a copy of a DataFrame or Series through chained assignment using an inplace method.\n",
            "The behavior will change in pandas 3.0. This inplace method will never work because the intermediate object on which we are setting values always behaves as a copy.\n",
            "\n",
            "For example, when doing 'df[col].method(value, inplace=True)', try using 'df.method({col: value}, inplace=True)' or df[col] = df[col].method(value) instead, to perform the operation inplace on the original object.\n",
            "\n",
            "\n",
            "  df['income'].fillna(income_median, inplace=True)\n"
          ]
        }
      ]
    },
    {
      "cell_type": "code",
      "source": [
        "# Remove duplicate rows\n",
        "df.drop_duplicates(inplace=True)"
      ],
      "metadata": {
        "id": "pxBvI1H_On2D"
      },
      "execution_count": 13,
      "outputs": []
    },
    {
      "cell_type": "code",
      "source": [
        "# Convert date formats and create 'age' column\n",
        "# Convert 'dt_customer' to datetime objects\n",
        "if 'dt_customer' in df.columns:\n",
        "    df['dt_customer'] = pd.to_datetime(df['dt_customer'], format='%d-%m-%Y')\n",
        "\n",
        "# Calculate 'Age' from 'year_birth' and drop 'year_birth'\n",
        "if 'year_birth' in df.columns:\n",
        "    current_year = 2025 # Assuming current year\n",
        "    df['age'] = current_year - df['year_birth']\n",
        "    df.drop('year_birth', axis=1, inplace=True)"
      ],
      "metadata": {
        "id": "ueouPEkIOn44"
      },
      "execution_count": 14,
      "outputs": []
    },
    {
      "cell_type": "code",
      "source": [
        "# Standardize text values\n",
        "# Standardize 'education' and 'marital_status' to title case\n",
        "if 'education' in df.columns:\n",
        "    df['education'] = df['education'].str.title()\n",
        "if 'marital_status' in df.columns:\n",
        "    df['marital_status'] = df['marital_status'].str.title()"
      ],
      "metadata": {
        "id": "xNaPv96zQd53"
      },
      "execution_count": 15,
      "outputs": []
    }
  ]
}